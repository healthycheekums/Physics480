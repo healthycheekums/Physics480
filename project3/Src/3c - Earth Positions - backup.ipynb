{
 "cells": [
  {
   "cell_type": "code",
   "execution_count": 34,
   "metadata": {
    "collapsed": false
   },
   "outputs": [],
   "source": [
    "import csv\n",
    "import numpy as np\n",
    "import matplotlib.pyplot as plt\n",
    "%matplotlib inline"
   ]
  },
  {
   "cell_type": "code",
   "execution_count": 25,
   "metadata": {
    "collapsed": false
   },
   "outputs": [],
   "source": [
    "#f = open(\"PlanetsVV_2_0.005.txt\")\n",
    "#print(f.read())"
   ]
  },
  {
   "cell_type": "code",
   "execution_count": 69,
   "metadata": {
    "collapsed": false
   },
   "outputs": [
    {
     "name": "stdout",
     "output_type": "stream",
     "text": [
      "The final distance from the sun is: 1.0000002091 AU\n",
      "Initial Angular Momentum:  1.884957e-05\n",
      "Final Angular Momentum:  1.88495561005e-05\n"
     ]
    }
   ],
   "source": [
    "# This grabs the position (x&y) array and tells what final distance is\n",
    "# Also shows initial and final angular momenta\n",
    "with open(\"PlanetsVV_2_0.005.txt\") as f:\n",
    "    reader = csv.reader(f, delimiter=\"\\t\")\n",
    "    d0_005 = list(reader)\n",
    "pos0_005 = np.zeros((len(d0_005), 2))\n",
    "vel0_005 = np.zeros((len(d0_005), 2))\n",
    "i = 0\n",
    "while i < len(d0_005):\n",
    "    pos0_005[i] = float(d0_005[i][3]), float(d[i][4])\n",
    "    vel0_005[i] = float(d0_005[i][6]), float(d[i][7])\n",
    "    i += 1\n",
    "finalDist = np.sqrt(pos0_005[len(d0_005)-1][0]**2 + pos0_005[len(d0_005)-1][1]**2)\n",
    "print('The final distance from the sun is:', finalDist, 'AU')\n",
    "momInit = (0.000003)*(np.sqrt(vel0_005[0][0]**2 + vel0_005[0][1]**2))*1\n",
    "momFinal = (0.000003)*(np.sqrt(vel0_005[len(d0_005)-1][0]**2 + vel0_005[len(d0_005)-1][1]**2))*finalDist\n",
    "print('Initial Angular Momentum: ', momInit)\n",
    "print('Final Angular Momentum: ', momFinal)"
   ]
  },
  {
   "cell_type": "code",
   "execution_count": 67,
   "metadata": {
    "collapsed": false
   },
   "outputs": [
    {
     "data": {
      "text/plain": [
       "<matplotlib.text.Text at 0x7fad40490c50>"
      ]
     },
     "execution_count": 67,
     "metadata": {},
     "output_type": "execute_result"
    },
    {
     "data": {
      "image/png": "[encoded data removed]",
      "text/plain": [
       "<matplotlib.figure.Figure at 0x7fad408f6a20>"
      ]
     },
     "metadata": {},
     "output_type": "display_data"
    }
   ],
   "source": [
    "# This plots the y positions vs the x positions\n",
    "fig = plt.figure(figsize=(5,5))\n",
    "plt.plot(pos0_005[:,0], pos0_005[:,1])\n",
    "plt.xlim([-1.5, 1.5])\n",
    "plt.ylim([-1.5, 1.5])\n",
    "plt.xlabel('X position (AU)')\n",
    "plt.ylabel('Y position (AU)')\n",
    "plt.title('Earth Orbit (Time step = 0.005)')"
   ]
  },
  {
   "cell_type": "code",
   "execution_count": 68,
   "metadata": {
    "collapsed": false
   },
   "outputs": [
    {
     "name": "stdout",
     "output_type": "stream",
     "text": [
      "KE init: 5.92176e-05 , PE init: -0.000118435\n",
      "KE final: 5.92176e-05 , PE final: -0.000118435\n",
      "KE diff: 0.0 , PE diff:  0.0\n"
     ]
    }
   ],
   "source": [
    "# This shows the initial and final energies to show if conserved or not\n",
    "# Also takes their difference\n",
    "with open(\"PlanetsVV_energy_2_0.005.txt\") as f:\n",
    "    reader = csv.reader(f, delimiter=\"\\t\")\n",
    "    d0_005 = list(reader)\n",
    "Energy0_005 = np.zeros((len(d0_005), 2))\n",
    "i = 0\n",
    "while i < len(d0_005):\n",
    "    Energy0_005[i] = float(d0_005[i][2]), float(d0_005[i][3])\n",
    "    i += 1\n",
    "print(\"KE init:\", Energy0_005[0][0], \", PE init:\", Energy0_005[0][1])\n",
    "print(\"KE final:\", Energy0_005[len(d0_005)-2][0], \", PE final:\", Energy0_005[len(d0_005)-2][1])\n",
    "print(\"KE diff:\", Energy0_005[len(d0_005)-2][0]-Energy0_005[0][0], \", PE diff: \", Energy0_005[len(d0_005)-2][1]-Energy0_005[0][1])"
   ]
  },
  {
   "cell_type": "code",
   "execution_count": 56,
   "metadata": {
    "collapsed": false
   },
   "outputs": [
    {
     "data": {
      "text/plain": [
       "<matplotlib.text.Text at 0x7fad409796a0>"
      ]
     },
     "execution_count": 56,
     "metadata": {},
     "output_type": "execute_result"
    },
    {
     "data": {
      "image/png": "[encoded data removed]",
      "text/plain": [
       "<matplotlib.figure.Figure at 0x7fad480fa908>"
      ]
     },
     "metadata": {},
     "output_type": "display_data"
    }
   ],
   "source": [
    "# Here is a plot with a bigger time step\n",
    "\n",
    "with open(\"PlanetsVV_2_0.100.txt\") as f:\n",
    "    reader = csv.reader(f, delimiter=\"\\t\")\n",
    "    d2 = list(reader)\n",
    "pos2 = np.zeros((len(d2), 2))\n",
    "i = 0\n",
    "while i < len(d2):\n",
    "    pos2[i] = float(d2[i][3]), float(d2[i][4])\n",
    "    i += 1\n",
    "fig = plt.figure(figsize=(5,5))\n",
    "plt.plot(pos2[:,0], pos2[:,1])\n",
    "plt.xlim([-1.5, 1.5])\n",
    "plt.ylim([-1.5, 1.5])\n",
    "plt.xlabel('X position (AU)')\n",
    "plt.ylabel('Y position (AU)')\n",
    "plt.title('Earth Orbit (Time step = 0.1)')"
   ]
  },
  {
   "cell_type": "code",
   "execution_count": null,
   "metadata": {
    "collapsed": true
   },
   "outputs": [],
   "source": []
  }
 ],
 "metadata": {
  "kernelspec": {
   "display_name": "Python 3",
   "language": "python",
   "name": "python3"
  },
  "language_info": {
   "codemirror_mode": {
    "name": "ipython",
    "version": 3
   },
   "file_extension": ".py",
   "mimetype": "text/x-python",
   "name": "python",
   "nbconvert_exporter": "python",
   "pygments_lexer": "ipython3",
   "version": "3.5.1"
  }
 },
 "nbformat": 4,
 "nbformat_minor": 0
}
