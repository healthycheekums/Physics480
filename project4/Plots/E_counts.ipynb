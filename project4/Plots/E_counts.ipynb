{
 "cells": [
  {
   "cell_type": "code",
   "execution_count": 1,
   "metadata": {
    "collapsed": true
   },
   "outputs": [],
   "source": [
    "import numpy as np\n",
    "import csv\n",
    "import matplotlib.pyplot as plt\n",
    "%matplotlib inline"
   ]
  },
  {
   "cell_type": "code",
   "execution_count": 168,
   "metadata": {
    "collapsed": false
   },
   "outputs": [],
   "source": [
    "# Import a file with 100,000 monte carlo cycles here\n",
    "with open(\"PartDtemp1B\") as f:\n",
    "    reader = csv.reader(f, delimiter=\"\\t\")\n",
    "    energies0_raw = list(reader)"
   ]
  },
  {
   "cell_type": "code",
   "execution_count": 169,
   "metadata": {
    "collapsed": false
   },
   "outputs": [],
   "source": [
    "Energies0 = np.zeros(100000)\n",
    "for i in range(0,100000):\n",
    "    Energies0[i] = int(energies0_raw[:100000][i][0])"
   ]
  },
  {
   "cell_type": "code",
   "execution_count": 170,
   "metadata": {
    "collapsed": false
   },
   "outputs": [
    {
     "data": {
      "text/plain": [
       "array([-744., -712., -672., ..., -512., -492., -520.])"
      ]
     },
     "execution_count": 170,
     "metadata": {},
     "output_type": "execute_result"
    }
   ],
   "source": [
    "Energies0"
   ]
  },
  {
   "cell_type": "code",
   "execution_count": 171,
   "metadata": {
    "collapsed": false
   },
   "outputs": [
    {
     "data": {
      "text/plain": [
       "9.2023608943999982"
      ]
     },
     "execution_count": 171,
     "metadata": {},
     "output_type": "execute_result"
    }
   ],
   "source": [
    "np.var(Energies0)"
   ]
  },
  {
   "cell_type": "code",
   "execution_count": 176,
   "metadata": {
    "collapsed": false
   },
   "outputs": [
    {
     "data": {
      "image/png": "[encoded data removed]",
      "text/plain": [
       "<matplotlib.figure.Figure at 0x7f5809861390>"
      ]
     },
     "metadata": {},
     "output_type": "display_data"
    }
   ],
   "source": [
    "plt.hist(Energies0, bins=10, rwidth = 1)\n",
    "plt.xlim([-800,-760])\n",
    "plt.xlabel('Energy')\n",
    "plt.ylabel('Counts')\n",
    "plt.title('Energy Histogram, T=1')\n",
    "plt.locator_params(axis = 'x', nticks=8)"
   ]
  },
  {
   "cell_type": "code",
   "execution_count": 154,
   "metadata": {
    "collapsed": false
   },
   "outputs": [
    {
     "data": {
      "text/plain": [
       "(array([  8.71640000e+04,   0.00000000e+00,   1.15470000e+04,\n",
       "          4.18000000e+02,   7.73000000e+02,   6.00000000e+01,\n",
       "          3.10000000e+01,   5.00000000e+00,   1.00000000e+00,\n",
       "          1.00000000e+00]),\n",
       " array([-800., -796., -792., -788., -784., -780., -776., -772., -768.,\n",
       "        -764., -760.]),\n",
       " <a list of 10 Patch objects>)"
      ]
     },
     "execution_count": 154,
     "metadata": {},
     "output_type": "execute_result"
    },
    {
     "data": {
      "image/png": "[encoded data removed]",
      "text/plain": [
       "<matplotlib.figure.Figure at 0x7f57fa794908>"
      ]
     },
     "metadata": {},
     "output_type": "display_data"
    }
   ],
   "source": [
    "# This gives you a crude output that enables you to find the probabilities. The first array is the count in each bar (almost just\n",
    "# reads off as percentages), and thesecond array tells you the corresponding energies for those counts.\n",
    "plt.hist(Energies)"
   ]
  },
  {
   "cell_type": "code",
   "execution_count": 156,
   "metadata": {
    "collapsed": false
   },
   "outputs": [],
   "source": [
    "# import a different outputfile with 100,000 Monte Carlo cycles in it.\n",
    "with open(\"PartDtemp2p4B\") as f:\n",
    "    reader = csv.reader(f, delimiter=\"\\t\")\n",
    "    energies_raw = list(reader)\n",
    "    \n",
    "Energies = np.zeros(100000)\n",
    "for i in range(0,100000):\n",
    "    Energies[i] = int(energies_raw[:100000][i][0])"
   ]
  },
  {
   "cell_type": "code",
   "execution_count": 158,
   "metadata": {
    "collapsed": false
   },
   "outputs": [
    {
     "data": {
      "text/plain": [
       "array([-744., -712., -672., ..., -512., -492., -520.])"
      ]
     },
     "execution_count": 158,
     "metadata": {},
     "output_type": "execute_result"
    }
   ],
   "source": [
    "Energies"
   ]
  },
  {
   "cell_type": "code",
   "execution_count": 159,
   "metadata": {
    "collapsed": false
   },
   "outputs": [
    {
     "data": {
      "image/png": "[encoded data removed]",
      "text/plain": [
       "<matplotlib.figure.Figure at 0x7f580a5d1f28>"
      ]
     },
     "metadata": {},
     "output_type": "display_data"
    }
   ],
   "source": [
    "plt.hist(Energies, bins=16)\n",
    "plt.xlim([-800,-300])\n",
    "plt.xlabel('Energy')\n",
    "plt.ylabel('Counts')\n",
    "plt.title('Energy Histogram, T=2.4')\n",
    "plt.locator_params(axis = 'x', nticks=4)"
   ]
  },
  {
   "cell_type": "code",
   "execution_count": 161,
   "metadata": {
    "collapsed": false
   },
   "outputs": [
    {
     "data": {
      "text/plain": [
       "(array([  1.70000000e+01,   3.56000000e+02,   2.59900000e+03,\n",
       "          9.05100000e+03,   1.89930000e+04,   2.83620000e+04,\n",
       "          2.64330000e+04,   1.19270000e+04,   2.14600000e+03,\n",
       "          1.16000000e+02]),\n",
       " array([-744. , -699.6, -655.2, -610.8, -566.4, -522. , -477.6, -433.2,\n",
       "        -388.8, -344.4, -300. ]),\n",
       " <a list of 10 Patch objects>)"
      ]
     },
     "execution_count": 161,
     "metadata": {},
     "output_type": "execute_result"
    },
    {
     "data": {
      "image/png": "[encoded data removed]",
      "text/plain": [
       "<matplotlib.figure.Figure at 0x7f580a6193c8>"
      ]
     },
     "metadata": {},
     "output_type": "display_data"
    }
   ],
   "source": [
    "plt.hist(Energies)"
   ]
  },
  {
   "cell_type": "code",
   "execution_count": 177,
   "metadata": {
    "collapsed": true
   },
   "outputs": [],
   "source": [
    "with open(\"PartD2p4a\") as f:\n",
    "    reader = csv.reader(f, delimiter=\"\\t\")\n",
    "    energies1_raw = list(reader)\n",
    "    \n",
    "Energies1 = np.zeros(100000)\n",
    "for i in range(0,100000):\n",
    "    Energies1[i] = int(energies1_raw[:100000][i][0])\n",
    "    "
   ]
  },
  {
   "cell_type": "code",
   "execution_count": 178,
   "metadata": {
    "collapsed": false
   },
   "outputs": [
    {
     "data": {
      "text/plain": [
       "array([-744., -712., -672., ..., -512., -492., -520.])"
      ]
     },
     "execution_count": 178,
     "metadata": {},
     "output_type": "execute_result"
    }
   ],
   "source": [
    "Energies1"
   ]
  },
  {
   "cell_type": "code",
   "execution_count": 180,
   "metadata": {
    "collapsed": false
   },
   "outputs": [
    {
     "data": {
      "text/plain": [
       "3303.2448029936004"
      ]
     },
     "execution_count": 180,
     "metadata": {},
     "output_type": "execute_result"
    }
   ],
   "source": [
    "np.var(Energies1)"
   ]
  },
  {
   "cell_type": "code",
   "execution_count": 179,
   "metadata": {
    "collapsed": false
   },
   "outputs": [
    {
     "data": {
      "image/png": "[encoded data removed]",
      "text/plain": [
       "<matplotlib.figure.Figure at 0x7f5808400a90>"
      ]
     },
     "metadata": {},
     "output_type": "display_data"
    }
   ],
   "source": [
    "plt.hist(Energies, bins=16)\n",
    "plt.xlim([-800,-300])\n",
    "plt.xlabel('Energy')\n",
    "plt.ylabel('Counts')\n",
    "plt.title('Energy Histogram, T=2.4')\n",
    "plt.locator_params(axis = 'x', nticks=4)"
   ]
  },
  {
   "cell_type": "code",
   "execution_count": null,
   "metadata": {
    "collapsed": true
   },
   "outputs": [],
   "source": []
  }
 ],
 "metadata": {
  "kernelspec": {
   "display_name": "Python 3",
   "language": "python",
   "name": "python3"
  },
  "language_info": {
   "codemirror_mode": {
    "name": "ipython",
    "version": 3
   },
   "file_extension": ".py",
   "mimetype": "text/x-python",
   "name": "python",
   "nbconvert_exporter": "python",
   "pygments_lexer": "ipython3",
   "version": "3.5.1"
  }
 },
 "nbformat": 4,
 "nbformat_minor": 0
}
